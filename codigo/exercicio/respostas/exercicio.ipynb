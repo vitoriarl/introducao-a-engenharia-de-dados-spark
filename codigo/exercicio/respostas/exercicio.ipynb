{
 "cells": [
  {
   "cell_type": "code",
   "execution_count": 0,
   "metadata": {
    "application/vnd.databricks.v1+cell": {
     "cellMetadata": {
      "byteLimit": 2048000,
      "rowLimit": 10000
     },
     "inputWidgets": {},
     "nuid": "902453e9-fb01-4ae4-a26e-50d581c4eda0",
     "showTitle": false,
     "tableResultSettingsMap": {},
     "title": ""
    }
   },
   "outputs": [],
   "source": [
    "# Importação das bibliotecas necessárias no código \n",
    "from pyspark.sql import SparkSession\n",
    "from pyspark.sql.functions import *\n",
    "from pyspark.sql.types import *"
   ]
  },
  {
   "cell_type": "code",
   "execution_count": 0,
   "metadata": {
    "application/vnd.databricks.v1+cell": {
     "cellMetadata": {
      "byteLimit": 2048000,
      "rowLimit": 10000
     },
     "inputWidgets": {},
     "nuid": "e3ebbcb1-f746-47ce-8201-59214da348db",
     "showTitle": false,
     "tableResultSettingsMap": {},
     "title": ""
    }
   },
   "outputs": [],
   "source": [
    "# 1 - Inicialize uma Spark Session\n",
    "spark = SparkSession.builder \\\n",
    "    .appName(\"credit_card_transactions\") \\\n",
    "    .getOrCreate()\n"
   ]
  },
  {
   "cell_type": "code",
   "execution_count": 0,
   "metadata": {
    "application/vnd.databricks.v1+cell": {
     "cellMetadata": {
      "byteLimit": 2048000,
      "rowLimit": 10000
     },
     "inputWidgets": {},
     "nuid": "17f059d1-26ab-40ee-8a31-ed15d6c6d5af",
     "showTitle": false,
     "tableResultSettingsMap": {},
     "title": ""
    }
   },
   "outputs": [],
   "source": [
    "# 2 - Ler a tabela que o arquivo foi salvo\n",
    "\n",
    "df = spark.read.table(\"hive_metastore.default.vendas_oficina_csv\")"
   ]
  },
  {
   "cell_type": "code",
   "execution_count": 0,
   "metadata": {
    "application/vnd.databricks.v1+cell": {
     "cellMetadata": {
      "byteLimit": 2048000,
      "rowLimit": 10000
     },
     "inputWidgets": {},
     "nuid": "03ba722b-f7cf-4d60-89d6-0e47d1f15313",
     "showTitle": false,
     "tableResultSettingsMap": {},
     "title": ""
    }
   },
   "outputs": [],
   "source": [
    "# 3 - Checar o schema do dataframe\n",
    "\n",
    "df.printSchema()"
   ]
  },
  {
   "cell_type": "code",
   "execution_count": 0,
   "metadata": {
    "application/vnd.databricks.v1+cell": {
     "cellMetadata": {
      "byteLimit": 2048000,
      "rowLimit": 10000
     },
     "inputWidgets": {},
     "nuid": "7eb2e37c-61a0-4f4c-b042-d215e42c4cf1",
     "showTitle": false,
     "tableResultSettingsMap": {},
     "title": ""
    }
   },
   "outputs": [],
   "source": [
    "# 4 - Contar quantos registros tem o dataframe\n",
    "\n",
    "total_vendas = df.count()\n",
    "print(f\"Total de vendas: {total_vendas}\")\n"
   ]
  },
  {
   "cell_type": "code",
   "execution_count": 0,
   "metadata": {
    "application/vnd.databricks.v1+cell": {
     "cellMetadata": {
      "byteLimit": 2048000,
      "rowLimit": 10000
     },
     "inputWidgets": {},
     "nuid": "a4790a29-6e40-4217-90ca-a140983fe3ae",
     "showTitle": false,
     "tableResultSettingsMap": {},
     "title": ""
    }
   },
   "outputs": [],
   "source": [
    "# 5 - Filtrar vendas por forma de pagamento PIX\n",
    "\n",
    "df_pix = df.filter(df.forma_pagamento == \"PIX\")\n",
    "display(df_pix)"
   ]
  },
  {
   "cell_type": "code",
   "execution_count": 0,
   "metadata": {
    "application/vnd.databricks.v1+cell": {
     "cellMetadata": {
      "byteLimit": 2048000,
      "rowLimit": 10000
     },
     "inputWidgets": {},
     "nuid": "c7bfff52-ab96-4d27-9ab7-6a2c4b5c8ae5",
     "showTitle": false,
     "tableResultSettingsMap": {},
     "title": ""
    }
   },
   "outputs": [],
   "source": [
    "# 6 - Calcular a receita total da oficina\n",
    "\n",
    "## posso selecionar e somar, retornando um dataframe\n",
    "\n",
    "receita_total = df.withColumn('valor_servico', col('valor_servico').cast(DecimalType(18,2)))\n",
    "\n",
    "receita_total = receita_total.select(sum(\"valor_servico\"))\n",
    "\n",
    "display(receita_total)\n",
    "\n",
    "## se eu coletar, me retorna uma valor decimal\n",
    "receita_total = df.agg({\"valor_servico\": \"sum\"}).collect()[0][0]\n",
    "print(f\"Receita total da oficina: R$ {receita_total:.2f}\")\n",
    "\n",
    "# Observação: cuidado com o collect(). o uso do collect() com um grande volume de dados pode estourar a memória do driver"
   ]
  },
  {
   "cell_type": "code",
   "execution_count": 0,
   "metadata": {
    "application/vnd.databricks.v1+cell": {
     "cellMetadata": {
      "byteLimit": 2048000,
      "rowLimit": 10000
     },
     "inputWidgets": {},
     "nuid": "c6ba0a94-4831-4da1-a5c3-cd5a096eb865",
     "showTitle": false,
     "tableResultSettingsMap": {},
     "title": ""
    }
   },
   "outputs": [],
   "source": [
    "# 7 - Agrupar vendas por serviço e contar quantas vendas tem cada um\n",
    "\n",
    "df_vendas_servico = df.groupBy(\"servico\").count()\n",
    "\n",
    "display(df_vendas_servico)"
   ]
  },
  {
   "cell_type": "code",
   "execution_count": 0,
   "metadata": {
    "application/vnd.databricks.v1+cell": {
     "cellMetadata": {
      "byteLimit": 2048000,
      "rowLimit": 10000
     },
     "inputWidgets": {},
     "nuid": "ad39ff1f-a244-4d14-85e3-c391321e1b40",
     "showTitle": false,
     "tableResultSettingsMap": {},
     "title": ""
    }
   },
   "outputs": [],
   "source": [
    "# 8 - Calcular a receita por cidade \n",
    "\n",
    "df_receita_cidade = df.withColumn('valor_servico', col('valor_servico').cast(DecimalType(18,2)))\n",
    "\n",
    "df_receita_cidade = df_receita_cidade.groupBy(\"cidade\").sum(\"valor_servico\")\n",
    "\n",
    "display(df_receita_cidade)"
   ]
  },
  {
   "cell_type": "code",
   "execution_count": 0,
   "metadata": {
    "application/vnd.databricks.v1+cell": {
     "cellMetadata": {
      "byteLimit": 2048000,
      "rowLimit": 10000
     },
     "inputWidgets": {},
     "nuid": "d0ec6dfe-d4e4-4ed2-b3b6-235c008ee72b",
     "showTitle": false,
     "tableResultSettingsMap": {},
     "title": ""
    }
   },
   "outputs": [],
   "source": [
    "# 9 - Encontrar a maior venda \n",
    "\n",
    "df_maior_venda = df.withColumn('valor_servico', col('valor_servico').cast(DecimalType(18,2)))\n",
    "\n",
    "df_maior_venda = df_maior_venda.select(max(\"valor_servico\"))\n",
    "\n",
    "display(df_maior_venda)"
   ]
  },
  {
   "cell_type": "code",
   "execution_count": 0,
   "metadata": {
    "application/vnd.databricks.v1+cell": {
     "cellMetadata": {
      "byteLimit": 2048000,
      "rowLimit": 10000
     },
     "inputWidgets": {},
     "nuid": "e2bf52e0-4ac8-4dbb-a0da-d52432f50505",
     "showTitle": false,
     "tableResultSettingsMap": {},
     "title": ""
    }
   },
   "outputs": [],
   "source": [
    "# 10 - Filtrar os registros apenas desse mês\n",
    "\n",
    "df = df.withColumn('data_venda', col('data_venda').cast(DateType()))\n",
    "\n",
    "df = df.filter(month(col('data_venda')) == 12)\n",
    "\n",
    "display(df)"
   ]
  },
  {
   "cell_type": "code",
   "execution_count": 0,
   "metadata": {
    "application/vnd.databricks.v1+cell": {
     "cellMetadata": {
      "byteLimit": 2048000,
      "rowLimit": 10000
     },
     "inputWidgets": {},
     "nuid": "1b6ad03c-9ca1-473d-9e1d-16eac0ac6eba",
     "showTitle": false,
     "tableResultSettingsMap": {},
     "title": ""
    }
   },
   "outputs": [],
   "source": [
    "# 11 - Salvar o dataframe em uma tabela em parquet com somente os registros do mês de dezembro (feito no exercicio 10)\n",
    "\n",
    "df.write.format(\"parquet\").saveAsTable(\"vendas_oficina_dezembro\")"
   ]
  }
 ],
 "metadata": {
  "application/vnd.databricks.v1+notebook": {
   "dashboards": [],
   "environmentMetadata": null,
   "language": "python",
   "notebookMetadata": {
    "mostRecentlyExecutedCommandWithImplicitDF": {
     "commandId": 2956282380943138,
     "dataframes": [
      "_sqldf"
     ]
    },
    "pythonIndentUnit": 4
   },
   "notebookName": "exercicio",
   "widgets": {}
  }
 },
 "nbformat": 4,
 "nbformat_minor": 0
}
